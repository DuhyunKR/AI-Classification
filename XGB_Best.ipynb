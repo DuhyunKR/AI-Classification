{
  "nbformat": 4,
  "nbformat_minor": 0,
  "metadata": {
    "colab": {
      "provenance": [],
      "mount_file_id": "1_iBzOT1Av8mNzrKDxgcP5hijPkner_BK",
      "authorship_tag": "ABX9TyOmf6dyEjdXA6ZGBGydp+kj"
    },
    "kernelspec": {
      "name": "python3",
      "display_name": "Python 3"
    },
    "language_info": {
      "name": "python"
    }
  },
  "cells": [
    {
      "cell_type": "markdown",
      "source": [
        "# **Import**"
      ],
      "metadata": {
        "id": "eypiDxZzFFdH"
      }
    },
    {
      "cell_type": "code",
      "execution_count": null,
      "metadata": {
        "id": "H7wb1_hoEyeL"
      },
      "outputs": [],
      "source": [
        "import time\n",
        "import numpy as np\n",
        "import pandas as pd\n",
        "import seaborn as sns\n",
        "import matplotlib.pyplot as plt\n",
        "from sklearn.model_selection import train_test_split\n",
        "from xgboost import XGBClassifier, plot_importance\n",
        "import xgboost as xgb\n",
        "from sklearn.metrics import accuracy_score, confusion_matrix, precision_score, recall_score, f1_score, roc_auc_score, classification_report, roc_curve\n",
        "from sklearn.model_selection import cross_validate"
      ]
    },
    {
      "cell_type": "markdown",
      "source": [
        "# **23만 데이터**"
      ],
      "metadata": {
        "id": "KHHM75gvFJBV"
      }
    },
    {
      "cell_type": "code",
      "source": [
        "df = pd.read_csv('데이터경로')\n",
        "df.shape\n",
        "df['label'].value_counts()"
      ],
      "metadata": {
        "id": "GI44nrrEE_J1"
      },
      "execution_count": null,
      "outputs": []
    },
    {
      "cell_type": "markdown",
      "source": [
        "# **입력 파일 정리**\n"
      ],
      "metadata": {
        "id": "--HF66QPFQk0"
      }
    },
    {
      "cell_type": "code",
      "source": [
        "df_1 = df.drop(columns=['FILENAME', 'URL', 'Domain','Title','TLD'])\n",
        "df_1"
      ],
      "metadata": {
        "id": "Z0Meo7n6FO3P"
      },
      "execution_count": null,
      "outputs": []
    },
    {
      "cell_type": "markdown",
      "source": [
        "# **X, y값 지정**"
      ],
      "metadata": {
        "id": "RU8u0w0nFcBH"
      }
    },
    {
      "cell_type": "code",
      "source": [
        "X = df_1.drop(columns=['label'])\n",
        "X"
      ],
      "metadata": {
        "id": "LjRIpnp4FXzu"
      },
      "execution_count": null,
      "outputs": []
    },
    {
      "cell_type": "code",
      "source": [
        "y = df_1['label'].values\n",
        "y"
      ],
      "metadata": {
        "id": "cCoDDEjjFhZJ"
      },
      "execution_count": null,
      "outputs": []
    },
    {
      "cell_type": "markdown",
      "source": [
        "# **데이터 분할**\n",
        "학습 데이터셋 : 테스트 데이터셋 = 80: 20"
      ],
      "metadata": {
        "id": "xo7nlgZcFl13"
      }
    },
    {
      "cell_type": "code",
      "source": [
        "X_train, X_test, y_train, y_test = train_test_split(X, y, test_size=0.2, random_state=156)\n"
      ],
      "metadata": {
        "id": "iXsABKmQFptQ"
      },
      "execution_count": null,
      "outputs": []
    },
    {
      "cell_type": "markdown",
      "source": [
        "# **모델 파라미터 설정 및 loss값 error값 확인**\n",
        "tree booster Parameter\n"
      ],
      "metadata": {
        "id": "sH0RoKoeGeHk"
      }
    },
    {
      "cell_type": "code",
      "source": [
        "XGB = XGBClassifier(max_depth=5, reg_lambda=0.1, n_estimators=400, objective='binary:logistic')\n",
        "evals = [(X_test, y_test)]\n",
        "XGB.fit(X_train, y_train, early_stopping_rounds=100, eval_metric=[\"error\",\"logloss\"], eval_set=evals, verbose=True)"
      ],
      "metadata": {
        "id": "-eQgvjBDGcSU"
      },
      "execution_count": null,
      "outputs": []
    },
    {
      "cell_type": "code",
      "source": [
        "y_train_pred = XGB.predict(X_train)\n",
        "y_test_pred = XGB.predict(X_test)"
      ],
      "metadata": {
        "id": "05NUjYMWJhRJ"
      },
      "execution_count": null,
      "outputs": []
    },
    {
      "cell_type": "markdown",
      "source": [
        "# **테스트 평가지표**\n",
        "성능평가\n",
        "정확도, 오차 행렬, 정밀도, 재현율, F1스코어, ROC AUC"
      ],
      "metadata": {
        "id": "ZzGvM6jiOKN4"
      }
    },
    {
      "cell_type": "code",
      "source": [
        "#ROC AUC 계산을 위한 확률 값\n",
        "y_test_pred_proba = XGB.predict_proba(X_test)[:, 1]"
      ],
      "metadata": {
        "id": "oyKK3vdGUJXv"
      },
      "execution_count": null,
      "outputs": []
    },
    {
      "cell_type": "code",
      "source": [
        "test_accuracy = accuracy_score(y_test, y_test_pred)\n",
        "conf_matrix = confusion_matrix(y_test, y_test_pred)\n",
        "precision = precision_score(y_test, y_test_pred)\n",
        "recall = recall_score(y_test, y_test_pred)\n",
        "f1 = f1_score(y_test, y_test_pred)\n",
        "roc_auc = roc_auc_score(y_test, y_test_pred_proba)"
      ],
      "metadata": {
        "id": "7ueNEhyNONUj"
      },
      "execution_count": null,
      "outputs": []
    },
    {
      "cell_type": "code",
      "source": [
        "print(\"Test Accuracy:\", test_accuracy)\n",
        "print(\"Confusion Matrix:\\n\", conf_matrix)\n",
        "print(\"Precision:\", precision)\n",
        "print(\"Recall:\", recall)\n",
        "print(\"F1 Score:\", f1)\n",
        "print(\"ROC AUC:\", roc_auc)"
      ],
      "metadata": {
        "id": "2_5_MT2aUWH3"
      },
      "execution_count": null,
      "outputs": []
    },
    {
      "cell_type": "code",
      "source": [
        "print(\"\\n성능 보고서:\\n\", classification_report(y_test, y_test_pred))"
      ],
      "metadata": {
        "id": "9mF__0gDUfmY"
      },
      "execution_count": null,
      "outputs": []
    },
    {
      "cell_type": "markdown",
      "source": [
        "# **시각화**\n",
        "ROC Curve, 오차행렬, error, loglooss"
      ],
      "metadata": {
        "id": "-wcjOeaWVT_Q"
      }
    },
    {
      "cell_type": "code",
      "source": [
        "#ROC Curve\n",
        "fpr, tpr, _ = roc_curve(y_test, y_test_pred_proba)\n",
        "\n",
        "plt.figure(figsize=(14,10))\n",
        "plt.subplot(2, 2, 1)\n",
        "plt.plot(fpr, tpr, label=f'ROC curve (area = {roc_auc:.2f})')\n",
        "plt.plot([0, 1], [0, 1], 'k--')\n",
        "plt.xlim([0.0, 1.0])\n",
        "plt.ylim([0.0, 1.05])\n",
        "plt.xlabel('False Positive Rate')\n",
        "plt.ylabel('True Positive Rate')\n",
        "plt.title('XGB (ROC)')\n",
        "plt.legend(loc='lower right')\n",
        "\n",
        "\n",
        "#오차행렬\n",
        "plt.subplot(2, 2, 2)\n",
        "sns.heatmap(conf_matrix, annot=True, fmt='d', cmap='Blues', cbar=False)\n",
        "plt.title('Confusion Matrix')\n",
        "plt.xlabel('Predicted Label')\n",
        "plt.ylabel('True Label')\n",
        "\n",
        "\n",
        "#에러\n",
        "results = XGB.evals_result()\n",
        "\n",
        "plt.subplot(2, 2, 3)\n",
        "plt.plot(results['validation_0']['error'], label='Test Error')\n",
        "plt.xlabel('Boosting Round')\n",
        "plt.ylabel('Error')\n",
        "plt.title('Test Error over Boosting Rounds')\n",
        "plt.legend()\n",
        "\n",
        "\n",
        "# Logloss per iteration\n",
        "plt.subplot(2, 2, 4)\n",
        "plt.plot(results['validation_0']['logloss'], label='Test Logloss')\n",
        "plt.xlabel('Boosting Round')\n",
        "plt.ylabel('Logloss')\n",
        "plt.title('Test Logloss over Boosting Rounds')\n",
        "plt.legend()\n",
        "\n",
        "\n",
        "plt.tight_layout()\n",
        "plt.show()"
      ],
      "metadata": {
        "collapsed": true,
        "id": "tKDOYnNAVd3m"
      },
      "execution_count": null,
      "outputs": []
    },
    {
      "cell_type": "markdown",
      "source": [
        "# **상위 특징 10개 추출**"
      ],
      "metadata": {
        "id": "DnhNZCWpb5O_"
      }
    },
    {
      "cell_type": "code",
      "source": [
        "feature_importances = XGB.feature_importances_\n",
        "top_features = np.argsort(feature_importances)[::-1][:10]\n",
        "print(\"Top 10 Features\", top_features)"
      ],
      "metadata": {
        "id": "oSSdO_lrbbQf"
      },
      "execution_count": null,
      "outputs": []
    },
    {
      "cell_type": "code",
      "source": [
        "fig, ax = plt.subplots(figsize=(20, 24))\n",
        "plot_importance(XGB, ax=ax)"
      ],
      "metadata": {
        "id": "8HkWI_JBdyqp"
      },
      "execution_count": null,
      "outputs": []
    },
    {
      "cell_type": "markdown",
      "source": [
        "# **일반화 및 모델 성능 향상을 위한 하이퍼 파라미터 튜닝**"
      ],
      "metadata": {
        "id": "Unty5w61eALF"
      }
    },
    {
      "cell_type": "code",
      "source": [
        "#우선 교차검증부터 시작\n",
        "start_time = time.time()\n",
        "cross_val = cross_validate(\n",
        "    XGB,\n",
        "    X,\n",
        "    y,\n",
        "    cv=5,\n",
        "    return_train_score=True,\n",
        "    scoring='accuracy'\n",
        ")\n",
        "end_time = time.time()\n",
        "total_cross_validation_time = end_time - start_time\n",
        "\n",
        "#전체 교차 검증 시간 출력\n",
        "total_cross_validation_time_minutes = total_cross_validation_time / 60\n",
        "print(\"총 교차 검증 시간(분) :\", total_cross_validation_time_minutes)\n",
        "# 전체 교차 검증 점수 출력\n",
        "print(\"훈련 점수:\", np.mean(cross_val['train_score']))\n",
        "print(\"검증 점수:\", np.mean(cross_val['test_score']))"
      ],
      "metadata": {
        "id": "dEuxwbExd1Ab"
      },
      "execution_count": null,
      "outputs": []
    },
    {
      "cell_type": "code",
      "source": [
        "from sklearn.model_selection import GridSearchCV\n",
        "n_XGB = XGBClassifier(random_state=10)\n",
        "param_grid = {\n",
        "    'n_estimators': [1000, 2000, 3000],\n",
        "\n",
        "}\n",
        "grid_search = GridSearchCV(n_XGB, param_grid, cv=5, scoring='accuracy')\n",
        "grid_search.fit(X, y)\n",
        "best_params = grid_search.best_params_\n"
      ],
      "metadata": {
        "collapsed": true,
        "id": "boKXmgGNr7Ji"
      },
      "execution_count": null,
      "outputs": []
    },
    {
      "cell_type": "code",
      "source": [
        "print(\"Best Parameters:\", best_params)\n"
      ],
      "metadata": {
        "id": "rtGllzTJtDeS"
      },
      "execution_count": null,
      "outputs": []
    },
    {
      "cell_type": "code",
      "source": [
        "# XGBClasifier 초기화\n",
        "param = {\n",
        "    'n_estimators': 1000,\n",
        "    'max_depth': None,\n",
        "    'learning_rate': 0.3,\n",
        "    'min_child_weight': 1,\n",
        "    'gamma': 0,\n",
        "    'subsample': 0.5,\n",
        "    'colsample_bytree': 0.55\n",
        "    }\n",
        "XGB_Best = xgb.XGBClassifier(**param)\n",
        "# 모델 훈련 및 평가\n",
        "eval_set = [(X_train, y_train), (X_test, y_test)]\n",
        "XGB_Best.fit(X_train, y_train, eval_set=eval_set, eval_metric=[\"error\", \"logloss\"], verbose=True)\n",
        "# validation_0 = Train, validation_1 = Test"
      ],
      "metadata": {
        "id": "HpeXiJZAfGnR"
      },
      "execution_count": null,
      "outputs": []
    },
    {
      "cell_type": "code",
      "source": [
        "# 에러 값, 손실 값, 최종 점수 확인\n",
        "evals_result = XGB_Best.evals_result()\n",
        "train_error = evals_result['validation_0']['error']\n",
        "test_error = evals_result['validation_1']['error']\n",
        "train_loss = evals_result['validation_0']['logloss']\n",
        "test_loss = evals_result['validation_1']['logloss']\n",
        "final_score = XGB_Best.score(X_test, y_test)\n",
        "print(\"Train Error:\", [f\"{error:.4f}\" for error in train_error])\n",
        "print(\"Test Error:\", [f\"{error:.4f}\" for error in test_error])\n",
        "print(\"Train Loss:\", [f\"{loss:.4f}\" for loss in train_loss])\n",
        "print(\"Test Loss:\", [f\"{loss:.4f}\" for loss in test_loss])\n",
        "print(\"Final Score:\", final_score)"
      ],
      "metadata": {
        "id": "OHeKfG0emjHc"
      },
      "execution_count": null,
      "outputs": []
    },
    {
      "cell_type": "markdown",
      "source": [
        "# **시각화**"
      ],
      "metadata": {
        "id": "-M374bC_n6w-"
      }
    },
    {
      "cell_type": "code",
      "source": [
        "# 시각화\n",
        "plt.figure(figsize=(10, 5))\n",
        "\n",
        "# 에러 값 그래프\n",
        "plt.subplot(1, 2, 1)\n",
        "plt.plot(train_error, label='Train Error')\n",
        "plt.plot(test_error, label='Test Error')\n",
        "plt.xlabel('Number of Iterations')\n",
        "plt.ylabel('Error')\n",
        "plt.title('Hyper-Prameter-Error')\n",
        "plt.legend()\n",
        "\n",
        "# 손실 값 그래프\n",
        "plt.subplot(1, 2, 2)\n",
        "plt.plot(train_loss, label='Train Loss')\n",
        "plt.plot(test_loss, label='Test Loss')\n",
        "plt.xlabel('Number of Iterations')\n",
        "plt.ylabel('Loss')\n",
        "plt.title('Hyper-Prameter-Loss')\n",
        "plt.legend()\n",
        "\n",
        "plt.tight_layout()\n",
        "plt.show()"
      ],
      "metadata": {
        "id": "JuuPFxBsn8MU"
      },
      "execution_count": null,
      "outputs": []
    },
    {
      "cell_type": "code",
      "source": [
        "fig, ax = plt.subplots(figsize=(20, 24))\n",
        "plot_importance(XGB_Best, ax=ax, max_num_features=8)"
      ],
      "metadata": {
        "id": "bqEvGVelob45"
      },
      "execution_count": null,
      "outputs": []
    }
  ]
}